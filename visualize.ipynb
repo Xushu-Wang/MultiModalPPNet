{
 "cells": [
  {
   "cell_type": "code",
   "execution_count": 76,
   "metadata": {},
   "outputs": [
    {
     "name": "stdout",
     "output_type": "stream",
     "text": [
      "The autoreload extension is already loaded. To reload it, use:\n",
      "  %reload_ext autoreload\n"
     ]
    }
   ],
   "source": [
    "%load_ext autoreload\n",
    "%autoreload 2"
   ]
  },
  {
   "cell_type": "code",
   "execution_count": 96,
   "metadata": {},
   "outputs": [],
   "source": [
    "from dataio.genetics import GeneticDataset, GeneticOneHot\n",
    "import pandas as pd\n",
    "import torch\n",
    "from model.utils import decode_onehot\n",
    "import matplotlib.pyplot as plt\n",
    "from model.ppnet import PPNet"
   ]
  },
  {
   "cell_type": "code",
   "execution_count": 78,
   "metadata": {},
   "outputs": [],
   "source": [
    "TRAIN_PATH = \"datasets/genetics/small_diptera_family-train.tsv\"\n",
    "# TRAIN_PATH = \"data/BIOSCAN-1M/small_order_train.tsv\"\n",
    "VALIDATION_PATH = \"datasets/genetics/small_diptera_family-validation.tsv\"\n",
    "TAXONOMY_NAME = \"genus\"\n",
    "# PROTOTYPE_PATH = \"saved_models/genetics/prototype_saving_test_images/epoch-80/genetic-string.csv\"\n",
    "PROTOTYPE_PATH = \"saved_models/genetics/prototype_saving_test_images/real_run/epoch-80/genetic-string.csv\"\n",
    "WEIGHT_PATH = \"saved_models/genetics/prototype_saving_test_images/real_run/80_push_weights.pth\"\n",
    "PROTOTYPE_COUNT = 10\n",
    "CLASS_COUNT = 40"
   ]
  },
  {
   "cell_type": "code",
   "execution_count": 98,
   "metadata": {},
   "outputs": [
    {
     "name": "stdout",
     "output_type": "stream",
     "text": [
      "OrderedDict([('weight', tensor([[ 1.5116e+00,  1.4286e+00,  1.1680e+00,  ..., -2.3224e-01,\n",
      "         -1.8759e-01, -1.8753e-01],\n",
      "        [-4.2280e-04, -4.0244e-04, -3.5393e-02,  ..., -2.8445e-01,\n",
      "         -3.1507e-01, -3.1495e-01],\n",
      "        [-1.5598e-02, -1.4252e-04, -2.0235e-04,  ..., -2.4069e-01,\n",
      "         -2.8359e-01, -2.8350e-01],\n",
      "        ...,\n",
      "        [-1.2816e-05, -8.4790e-05, -9.6460e-05,  ..., -3.5222e-01,\n",
      "         -3.9929e-01, -3.9910e-01],\n",
      "        [-7.7459e-02,  2.4511e-04, -4.2826e-02,  ..., -3.1516e-01,\n",
      "         -3.3165e-01, -3.3152e-01],\n",
      "        [ 1.7044e-04, -4.5320e-05, -1.6786e-04,  ...,  7.5376e-01,\n",
      "          7.4191e-01,  7.4191e-01]], device='cuda:0'))])\n"
     ]
    }
   ],
   "source": [
    "ppnet = torch.load(WEIGHT_PATH)"
   ]
  },
  {
   "cell_type": "code",
   "execution_count": 79,
   "metadata": {},
   "outputs": [],
   "source": [
    "codon_map_a = {\n",
    "    \"Phe\": [\"TTT\", \"TTC\"],\n",
    "    \"Leu\": [\"TTA\", \"TTG\", \"CTT\", \"CTC\", \"CTA\", \"CTG\"],\n",
    "    \"Ile\": [\"ATT\", \"ATC\", \"ATA\"],\n",
    "    \"Met\": [\"ATG\"],\n",
    "    \"Val\": [\"GTT\", \"GTC\", \"GTA\", \"GTG\"],\n",
    "    \"Ser\": [\"TCT\", \"TCC\", \"TCA\", \"TCG\", \"AGT\", \"AGC\"],\n",
    "    \"Pro\": [\"CCT\", \"CCC\", \"CCA\", \"CCG\"],\n",
    "    \"Thr\": [\"ACT\", \"ACC\", \"ACA\", \"ACG\"],\n",
    "    \"Ala\": [\"GCT\", \"GCC\", \"GCA\", \"GCG\"],\n",
    "    \"Tyr\": [\"TAT\", \"TAC\"],\n",
    "    \"Stop\": [\"TAA\", \"TAG\", \"TGA\"],\n",
    "    \"His\": [\"CAT\", \"CAC\"],\n",
    "    \"Gln\": [\"CAA\", \"CAG\"],\n",
    "    \"Asn\": [\"AAT\", \"AAC\"],\n",
    "    \"Lys\": [\"AAA\", \"AAG\"],\n",
    "    \"Asp\": [\"GAT\", \"GAC\"],\n",
    "    \"Glu\": [\"GAA\", \"GAG\"],\n",
    "    \"Cys\": [\"TGT\", \"TGC\"],\n",
    "    \"Trp\": [\"TGG\"],\n",
    "    \"Arg\": [\"CGT\", \"CGC\", \"CGA\", \"CGG\", \"AGA\", \"AGG\"],\n",
    "    \"Gly\": [\"GGT\", \"GGC\", \"GGA\", \"GGG\"],\n",
    "    \"None\": [\"NNN\"],\n",
    "}\n",
    "\n",
    "codon_map = {}\n",
    "\n",
    "for aa, codons in codon_map_a.items():\n",
    "    for codon in codons:\n",
    "        codon_map[codon] = aa"
   ]
  },
  {
   "cell_type": "code",
   "execution_count": 80,
   "metadata": {},
   "outputs": [],
   "source": [
    "train_dataset = GeneticDataset(TRAIN_PATH,\n",
    "                              \"onehot\", \n",
    "                              TAXONOMY_NAME,\n",
    "                              max_class_count=CLASS_COUNT,\n",
    "                              restraint=(\"family\", [\"Cecidomyiidae\"]))\n",
    "\n",
    "validation_dataset = validation_dataset = GeneticDataset(VALIDATION_PATH, \n",
    "                              \"onehot\",\n",
    "                              TAXONOMY_NAME,\n",
    "                              train_dataset.get_classes(TAXONOMY_NAME)[0])\n"
   ]
  },
  {
   "cell_type": "code",
   "execution_count": 81,
   "metadata": {},
   "outputs": [],
   "source": [
    "prototype_df = pd.read_csv(PROTOTYPE_PATH)"
   ]
  },
  {
   "cell_type": "code",
   "execution_count": 82,
   "metadata": {},
   "outputs": [
    {
     "data": {
      "text/html": [
       "<div>\n",
       "<style scoped>\n",
       "    .dataframe tbody tr th:only-of-type {\n",
       "        vertical-align: middle;\n",
       "    }\n",
       "\n",
       "    .dataframe tbody tr th {\n",
       "        vertical-align: top;\n",
       "    }\n",
       "\n",
       "    .dataframe thead th {\n",
       "        text-align: right;\n",
       "    }\n",
       "</style>\n",
       "<table border=\"1\" class=\"dataframe\">\n",
       "  <thead>\n",
       "    <tr style=\"text-align: right;\">\n",
       "      <th></th>\n",
       "      <th>key</th>\n",
       "      <th>class_index</th>\n",
       "      <th>prototype_index</th>\n",
       "      <th>patch</th>\n",
       "    </tr>\n",
       "  </thead>\n",
       "  <tbody>\n",
       "    <tr>\n",
       "      <th>0</th>\n",
       "      <td>0</td>\n",
       "      <td>0</td>\n",
       "      <td>0</td>\n",
       "      <td>ACATTGTATTTTATATTA</td>\n",
       "    </tr>\n",
       "    <tr>\n",
       "      <th>1</th>\n",
       "      <td>1</td>\n",
       "      <td>0</td>\n",
       "      <td>1</td>\n",
       "      <td>GAGCATGATCAGGTATAG</td>\n",
       "    </tr>\n",
       "    <tr>\n",
       "      <th>2</th>\n",
       "      <td>2</td>\n",
       "      <td>0</td>\n",
       "      <td>2</td>\n",
       "      <td>AGGAACTTCATTAAGAAT</td>\n",
       "    </tr>\n",
       "    <tr>\n",
       "      <th>3</th>\n",
       "      <td>3</td>\n",
       "      <td>0</td>\n",
       "      <td>3</td>\n",
       "      <td>CTTATTCGAGCTGAATTA</td>\n",
       "    </tr>\n",
       "    <tr>\n",
       "      <th>4</th>\n",
       "      <td>4</td>\n",
       "      <td>0</td>\n",
       "      <td>4</td>\n",
       "      <td>ATTAGGACATCCAGGAGC</td>\n",
       "    </tr>\n",
       "    <tr>\n",
       "      <th>...</th>\n",
       "      <td>...</td>\n",
       "      <td>...</td>\n",
       "      <td>...</td>\n",
       "      <td>...</td>\n",
       "    </tr>\n",
       "    <tr>\n",
       "      <th>1115</th>\n",
       "      <td>1595</td>\n",
       "      <td>39</td>\n",
       "      <td>35</td>\n",
       "      <td>TCCTATTTTATACCAACA</td>\n",
       "    </tr>\n",
       "    <tr>\n",
       "      <th>1116</th>\n",
       "      <td>1596</td>\n",
       "      <td>39</td>\n",
       "      <td>36</td>\n",
       "      <td>TTTATNNNNNNNNNNNNN</td>\n",
       "    </tr>\n",
       "    <tr>\n",
       "      <th>1117</th>\n",
       "      <td>1597</td>\n",
       "      <td>39</td>\n",
       "      <td>37</td>\n",
       "      <td>NNNNNNNNNNNNNNNNNN</td>\n",
       "    </tr>\n",
       "    <tr>\n",
       "      <th>1118</th>\n",
       "      <td>1598</td>\n",
       "      <td>39</td>\n",
       "      <td>38</td>\n",
       "      <td>NNNNNNNNNNNNNNNNNN</td>\n",
       "    </tr>\n",
       "    <tr>\n",
       "      <th>1119</th>\n",
       "      <td>1599</td>\n",
       "      <td>39</td>\n",
       "      <td>39</td>\n",
       "      <td>NNNNNNNNNNNNNNNNNN</td>\n",
       "    </tr>\n",
       "  </tbody>\n",
       "</table>\n",
       "<p>1120 rows × 4 columns</p>\n",
       "</div>"
      ],
      "text/plain": [
       "       key  class_index  prototype_index               patch\n",
       "0        0            0                0  ACATTGTATTTTATATTA\n",
       "1        1            0                1  GAGCATGATCAGGTATAG\n",
       "2        2            0                2  AGGAACTTCATTAAGAAT\n",
       "3        3            0                3  CTTATTCGAGCTGAATTA\n",
       "4        4            0                4  ATTAGGACATCCAGGAGC\n",
       "...    ...          ...              ...                 ...\n",
       "1115  1595           39               35  TCCTATTTTATACCAACA\n",
       "1116  1596           39               36  TTTATNNNNNNNNNNNNN\n",
       "1117  1597           39               37  NNNNNNNNNNNNNNNNNN\n",
       "1118  1598           39               38  NNNNNNNNNNNNNNNNNN\n",
       "1119  1599           39               39  NNNNNNNNNNNNNNNNNN\n",
       "\n",
       "[1120 rows x 4 columns]"
      ]
     },
     "execution_count": 82,
     "metadata": {},
     "output_type": "execute_result"
    }
   ],
   "source": [
    "prototype_df"
   ]
  },
  {
   "cell_type": "code",
   "execution_count": 83,
   "metadata": {},
   "outputs": [],
   "source": [
    "prot_strings = [[\"\" for j in range(0,40)] for i in range(0, 40)]\n",
    "\n",
    "for i in range(0, len(prototype_df)):\n",
    "    class_index = prototype_df.iloc[i][\"class_index\"]\n",
    "    prototype_index = prototype_df.iloc[i][\"prototype_index\"]\n",
    "    string = prototype_df.iloc[i][\"patch\"]\n",
    "\n",
    "    prot_strings[class_index][prototype_index] = string\n",
    "\n",
    "full_strings = [\"\".join(string) for string in prot_strings]"
   ]
  },
  {
   "cell_type": "code",
   "execution_count": 84,
   "metadata": {},
   "outputs": [],
   "source": [
    "encoder = GeneticOneHot(include_height_channel=True)\n",
    "tensors = [encoder(s) if s != \"\" else None for s in full_strings]"
   ]
  },
  {
   "cell_type": "code",
   "execution_count": 85,
   "metadata": {},
   "outputs": [
    {
     "data": {
      "text/plain": [
       "tensor(17)"
      ]
     },
     "execution_count": 85,
     "metadata": {},
     "output_type": "execute_result"
    }
   ],
   "source": [
    "input_tensor = validation_dataset[100]\n",
    "input_tensor[1]"
   ]
  },
  {
   "cell_type": "code",
   "execution_count": 86,
   "metadata": {},
   "outputs": [
    {
     "name": "stdout",
     "output_type": "stream",
     "text": [
      "tensor([[[0., 0., 0.,  ..., 0., 0., 0.]],\n",
      "\n",
      "        [[1., 0., 1.,  ..., 0., 0., 0.]],\n",
      "\n",
      "        [[0., 0., 0.,  ..., 0., 0., 0.]],\n",
      "\n",
      "        [[0., 1., 0.,  ..., 0., 0., 0.]]]) tensor([[[1., 0., 1.,  ..., 0., 0., 0.]],\n",
      "\n",
      "        [[0., 1., 0.,  ..., 0., 0., 0.]],\n",
      "\n",
      "        [[0., 0., 0.,  ..., 0., 0., 0.]],\n",
      "\n",
      "        [[0., 0., 0.,  ..., 0., 0., 0.]]])\n"
     ]
    }
   ],
   "source": [
    "print(input_tensor[0], tensors[0])"
   ]
  },
  {
   "cell_type": "code",
   "execution_count": 87,
   "metadata": {},
   "outputs": [],
   "source": [
    "def find_matching_dims(input_tensor, prototype_tensors, class_index):\n",
    "    tensor = prototype_tensors[class_index]\n",
    "\n",
    "    if tensor is None:\n",
    "        print(\"No prototype tensor found for class index\", class_index)\n",
    "        return None\n",
    "    \n",
    "    if input_tensor.shape != tensor.shape:\n",
    "        print(\"Shape mismatch for class index\", class_index)\n",
    "        return None\n",
    "    \n",
    "    output = torch.eq(input_tensor, tensor)\n",
    "    # sum along the channel dimension\n",
    "    output = output.sum(0)\n",
    "    # integer divide by the number of channels\n",
    "    output = output // 4\n",
    "    return output[0]"
   ]
  },
  {
   "cell_type": "code",
   "execution_count": 88,
   "metadata": {},
   "outputs": [
    {
     "data": {
      "text/plain": [
       "tensor([0, 0, 0, 0, 1, 1, 0, 0, 1, 0, 1, 0, 1, 0, 0, 1, 1, 0, 0, 1, 0, 0, 1, 0,\n",
       "        0, 0, 0, 0, 0, 1, 0, 1, 0, 0, 0, 0, 0, 1, 0, 0, 1, 0, 1, 1, 1, 0, 0, 0,\n",
       "        0, 1, 0, 0, 1, 0, 0, 1, 1, 0, 1, 0, 1, 0, 0, 0, 0, 0, 0, 0, 0, 1, 0, 1,\n",
       "        0, 0, 0, 0, 0, 0, 1, 0, 0, 0, 1, 0, 0, 0, 1, 0, 0, 0, 0, 0, 0, 1, 0, 0,\n",
       "        0, 1, 1, 0, 0, 0, 1, 0, 0, 1, 0, 0, 1, 0, 0, 0, 0, 0, 0, 0, 0, 1, 0, 0,\n",
       "        0, 0, 0, 0, 0, 0, 0, 0, 0, 1, 0, 0, 0, 0, 0, 0, 1, 1, 0, 1, 0, 0, 1, 1,\n",
       "        0, 0, 0, 1, 0, 1, 0, 1, 0, 0, 0, 0, 1, 0, 0, 0, 0, 0, 0, 0, 1, 0, 1, 0,\n",
       "        1, 1, 0, 0, 1, 0, 1, 0, 1, 0, 0, 1, 0, 0, 1, 1, 0, 1, 0, 0, 1, 0, 1, 0,\n",
       "        0, 0, 0, 0, 0, 0, 1, 0, 1, 0, 1, 1, 1, 1, 0, 0, 0, 1, 0, 0, 1, 0, 0, 0,\n",
       "        0, 0, 0, 1, 0, 0, 0, 0, 0, 0, 0, 0, 0, 0, 1, 1, 0, 0, 0, 0, 0, 0, 1, 0,\n",
       "        0, 1, 0, 1, 1, 1, 1, 0, 1, 1, 0, 0, 0, 1, 0, 0, 1, 1, 0, 0, 0, 0, 1, 1,\n",
       "        0, 0, 0, 0, 1, 1, 1, 1, 1, 0, 1, 1, 0, 0, 0, 0, 0, 1, 1, 1, 1, 1, 1, 1,\n",
       "        0, 0, 0, 0, 0, 1, 0, 0, 1, 0, 1, 1, 0, 0, 0, 0, 0, 0, 1, 0, 0, 1, 0, 1,\n",
       "        0, 0, 1, 0, 0, 0, 0, 0, 0, 0, 1, 0, 0, 0, 0, 0, 1, 0, 0, 0, 0, 1, 0, 0,\n",
       "        0, 0, 1, 0, 0, 1, 0, 0, 0, 1, 0, 1, 0, 0, 1, 0, 0, 0, 1, 0, 0, 0, 0, 0,\n",
       "        0, 0, 0, 0, 0, 0, 0, 0, 0, 1, 0, 0, 1, 0, 1, 0, 0, 0, 0, 0, 0, 0, 1, 1,\n",
       "        1, 0, 0, 0, 1, 0, 1, 1, 1, 1, 1, 0, 0, 0, 1, 0, 1, 0, 0, 1, 0, 0, 0, 1,\n",
       "        0, 0, 0, 0, 1, 0, 0, 1, 1, 0, 1, 0, 0, 0, 0, 0, 0, 0, 0, 0, 0, 0, 1, 0,\n",
       "        0, 0, 0, 0, 0, 0, 1, 0, 0, 1, 1, 1, 0, 0, 0, 0, 0, 1, 0, 1, 0, 0, 0, 0,\n",
       "        0, 0, 1, 0, 1, 0, 1, 0, 0, 0, 1, 0, 0, 0, 1, 0, 0, 0, 0, 0, 0, 1, 0, 1,\n",
       "        0, 1, 1, 1, 0, 0, 0, 0, 0, 0, 0, 1, 1, 0, 0, 0, 1, 0, 1, 0, 0, 0, 0, 0,\n",
       "        0, 0, 1, 1, 1, 0, 1, 1, 0, 1, 0, 0, 1, 0, 1, 1, 1, 1, 0, 0, 0, 1, 0, 0,\n",
       "        0, 0, 0, 1, 1, 1, 1, 1, 0, 1, 0, 1, 1, 0, 0, 0, 0, 1, 1, 0, 0, 1, 0, 0,\n",
       "        0, 0, 1, 1, 0, 0, 0, 0, 1, 0, 0, 0, 0, 0, 1, 0, 0, 0, 0, 0, 0, 0, 0, 0,\n",
       "        0, 0, 0, 1, 0, 0, 1, 0, 0, 0, 0, 0, 0, 1, 1, 0, 1, 1, 1, 0, 1, 0, 0, 0,\n",
       "        0, 0, 0, 0, 1, 1, 1, 1, 1, 1, 0, 0, 0, 0, 1, 0, 1, 0, 0, 0, 1, 0, 0, 1,\n",
       "        0, 0, 1, 0, 0, 0, 1, 1, 1, 0, 1, 0, 0, 1, 0, 0, 0, 0, 0, 0, 0, 0, 0, 0,\n",
       "        0, 1, 0, 1, 0, 1, 1, 0, 0, 0, 0, 0, 1, 1, 1, 1, 1, 1, 1, 1, 1, 1, 1, 1,\n",
       "        1, 1, 1, 1, 1, 1, 1, 1, 1, 1, 1, 1, 1, 1, 1, 1, 1, 1, 1, 1, 1, 1, 1, 1,\n",
       "        1, 1, 1, 1, 1, 1, 1, 1, 1, 1, 1, 1, 1, 1, 1, 1, 1, 1, 1, 1, 1, 1, 1, 1])"
      ]
     },
     "execution_count": 88,
     "metadata": {},
     "output_type": "execute_result"
    }
   ],
   "source": [
    "find_matching_dims(input_tensor[0], tensors, 9)"
   ]
  },
  {
   "cell_type": "code",
   "execution_count": 89,
   "metadata": {},
   "outputs": [],
   "source": [
    "# Open the weights\n",
    "weights = torch.load(WEIGHT_PATH)[\"weight\"]\n",
    "\n",
    "class_weights = torch.zeros(CLASS_COUNT, 40)\n",
    "\n",
    "# Reshape the weights\n",
    "weights = weights.reshape(CLASS_COUNT, 40, 40)\n",
    "\n",
    "for i in range(CLASS_COUNT):\n",
    "    for j in range(40):\n",
    "        class_weights[i][j] = weights[i][i][j]"
   ]
  },
  {
   "cell_type": "code",
   "execution_count": 90,
   "metadata": {},
   "outputs": [],
   "source": [
    "sorted_prototype_indices = class_weights.argsort(descending=True, dim=1)\n",
    "best_prototypes = sorted_prototype_indices[:, :PROTOTYPE_COUNT]"
   ]
  },
  {
   "cell_type": "code",
   "execution_count": 91,
   "metadata": {},
   "outputs": [
    {
     "name": "stdout",
     "output_type": "stream",
     "text": [
      "tensor(17)\n",
      "0 71\n",
      "No prototype tensor found for class index 1\n",
      "No prototype tensor found for class index 2\n",
      "3 67\n",
      "4 65\n",
      "No prototype tensor found for class index 5\n",
      "6 64\n",
      "7 48\n",
      "8 90\n",
      "9 56\n",
      "10 65\n",
      "11 72\n",
      "12 70\n",
      "13 40\n",
      "14 52\n",
      "15 72\n",
      "16 66\n",
      "17 66\n",
      "18 51\n",
      "19 53\n",
      "No prototype tensor found for class index 20\n",
      "21 51\n",
      "22 58\n",
      "23 56\n",
      "24 52\n",
      "25 64\n",
      "26 51\n",
      "27 62\n",
      "No prototype tensor found for class index 28\n",
      "29 65\n",
      "30 57\n",
      "No prototype tensor found for class index 31\n",
      "No prototype tensor found for class index 32\n",
      "No prototype tensor found for class index 33\n",
      "34 46\n",
      "No prototype tensor found for class index 35\n",
      "No prototype tensor found for class index 36\n",
      "No prototype tensor found for class index 37\n",
      "No prototype tensor found for class index 38\n",
      "39 39\n"
     ]
    }
   ],
   "source": [
    "print(input_tensor[1])\n",
    "for i in range(CLASS_COUNT):\n",
    "    o = find_matching_dims(input_tensor[0], tensors, i)\n",
    "\n",
    "    if o is not None:\n",
    "        t = 0\n",
    "\n",
    "        for p in best_prototypes[i]:\n",
    "            t += int(o[p*18:(p+1)*18].sum())\n",
    "        \n",
    "        print(i, t)"
   ]
  },
  {
   "cell_type": "code",
   "execution_count": 92,
   "metadata": {},
   "outputs": [],
   "source": [
    "def create_amino(string):\n",
    "    output = []\n",
    "    print(string)\n",
    "\n",
    "    for i in range(0, len(string), 3):\n",
    "        s = string[i:i+3]\n",
    "        if s in codon_map:\n",
    "            output.append(codon_map[s])\n",
    "        else:\n",
    "            output.append(\"None\")\n",
    "    \n",
    "    return output"
   ]
  },
  {
   "cell_type": "code",
   "execution_count": 93,
   "metadata": {},
   "outputs": [
    {
     "name": "stdout",
     "output_type": "stream",
     "text": [
      "TGATCAGTTATTATTACA\n",
      "TATGAGCTGTAGTTATTA\n",
      "['Stop', 'Ser', 'Val', 'Ile', 'Ile', 'Thr']\n",
      "['Tyr', 'Glu', 'Leu', 'Stop', 'Leu', 'Leu']\n"
     ]
    },
    {
     "data": {
      "image/png": "[encoded data removed]",
      "text/plain": [
       "<Figure size 1000x200 with 1 Axes>"
      ]
     },
     "metadata": {},
     "output_type": "display_data"
    },
    {
     "name": "stdout",
     "output_type": "stream",
     "text": [
      "TAACAGATCGAAATTTTA\n",
      "TACTTACTGATCGAAATT\n",
      "['Stop', 'Gln', 'Ile', 'Glu', 'Ile', 'Leu']\n",
      "['Tyr', 'Leu', 'Leu', 'Ile', 'Glu', 'Ile']\n"
     ]
    },
    {
     "data": {
      "image/png": "[encoded data removed]",
      "text/plain": [
       "<Figure size 1000x200 with 1 Axes>"
      ]
     },
     "metadata": {},
     "output_type": "display_data"
    },
    {
     "name": "stdout",
     "output_type": "stream",
     "text": [
      "TTATATTTTATATTAGGA\n",
      "CTCTATATTTTATATTTG\n",
      "['Leu', 'Tyr', 'Phe', 'Ile', 'Leu', 'Gly']\n",
      "['Leu', 'Tyr', 'Ile', 'Leu', 'Tyr', 'Leu']\n"
     ]
    },
    {
     "data": {
      "image/png": "[encoded data removed]",
      "text/plain": [
       "<Figure size 1000x200 with 1 Axes>"
      ]
     },
     "metadata": {},
     "output_type": "display_data"
    },
    {
     "name": "stdout",
     "output_type": "stream",
     "text": [
      "CTGCAGTATTATTATTAT\n",
      "CAGCCTTATTATTACTTT\n",
      "['Leu', 'Gln', 'Tyr', 'Tyr', 'Tyr', 'Tyr']\n",
      "['Gln', 'Pro', 'Tyr', 'Tyr', 'Tyr', 'Phe']\n"
     ]
    },
    {
     "data": {
      "image/png": "[encoded data removed]",
      "text/plain": [
       "<Figure size 1000x200 with 1 Axes>"
      ]
     },
     "metadata": {},
     "output_type": "display_data"
    },
    {
     "name": "stdout",
     "output_type": "stream",
     "text": [
      "AGCTTGATCCGGTATAGT\n",
      "GAGCTTGAGCAGGAATAG\n",
      "['Ser', 'Leu', 'Ile', 'Arg', 'Tyr', 'Ser']\n",
      "['Glu', 'Leu', 'Glu', 'Gln', 'Glu', 'Stop']\n"
     ]
    },
    {
     "data": {
      "image/png": "[encoded data removed]",
      "text/plain": [
       "<Figure size 1000x200 with 1 Axes>"
      ]
     },
     "metadata": {},
     "output_type": "display_data"
    },
    {
     "name": "stdout",
     "output_type": "stream",
     "text": [
      "TTTTGACTTTTACCACCA\n",
      "GATTTTGATTATTACCCC\n",
      "['Phe', 'Stop', 'Leu', 'Leu', 'Pro', 'Pro']\n",
      "['Asp', 'Phe', 'Asp', 'Tyr', 'Tyr', 'Pro']\n"
     ]
    },
    {
     "data": {
      "image/png": "[encoded data removed]",
      "text/plain": [
       "<Figure size 1000x200 with 1 Axes>"
      ]
     },
     "metadata": {},
     "output_type": "display_data"
    },
    {
     "name": "stdout",
     "output_type": "stream",
     "text": [
      "TGCTCATGCTTTTATTAT\n",
      "CTGCTCATGCTTTTGTTA\n",
      "['Cys', 'Ser', 'Cys', 'Phe', 'Tyr', 'Tyr']\n",
      "['Leu', 'Leu', 'Met', 'Leu', 'Leu', 'Leu']\n"
     ]
    },
    {
     "data": {
      "image/png": "[encoded data removed]",
      "text/plain": [
       "<Figure size 1000x200 with 1 Axes>"
      ]
     },
     "metadata": {},
     "output_type": "display_data"
    },
    {
     "name": "stdout",
     "output_type": "stream",
     "text": [
      "GTAGATTTAGCAATTTTT\n",
      "TTGATTTAGCAATTTTTT\n",
      "['Val', 'Asp', 'Leu', 'Ala', 'Ile', 'Phe']\n",
      "['Leu', 'Ile', 'Stop', 'Gln', 'Phe', 'Phe']\n"
     ]
    },
    {
     "data": {
      "image/png": "[encoded data removed]",
      "text/plain": [
       "<Figure size 1000x200 with 1 Axes>"
      ]
     },
     "metadata": {},
     "output_type": "display_data"
    },
    {
     "name": "stdout",
     "output_type": "stream",
     "text": [
      "TTGTAACTGCTCATGCTT\n",
      "TTTATAATGTAATTGTTA\n",
      "['Leu', 'Stop', 'Leu', 'Leu', 'Met', 'Leu']\n",
      "['Phe', 'Ile', 'Met', 'Stop', 'Leu', 'Leu']\n"
     ]
    },
    {
     "data": {
      "image/png": "[encoded data removed]",
      "text/plain": [
       "<Figure size 1000x200 with 1 Axes>"
      ]
     },
     "metadata": {},
     "output_type": "display_data"
    },
    {
     "name": "stdout",
     "output_type": "stream",
     "text": [
      "AATTATTAATATACGATC\n",
      "CAGTAATTAATATACGAT\n",
      "['Asn', 'Tyr', 'Stop', 'Tyr', 'Thr', 'Ile']\n",
      "['Gln', 'Stop', 'Leu', 'Ile', 'Tyr', 'Asp']\n"
     ]
    },
    {
     "data": {
      "image/png": "[encoded data removed]",
      "text/plain": [
       "<Figure size 1000x200 with 1 Axes>"
      ]
     },
     "metadata": {},
     "output_type": "display_data"
    }
   ],
   "source": [
    "# 2\n",
    "# 3\n",
    "\n",
    "prototype_class_index = 17\n",
    "\n",
    "for i in range(PROTOTYPE_COUNT):\n",
    "    string = decode_onehot(input_tensor[0].numpy(), three_dim=True)\n",
    "\n",
    "    # print(string[best_prototypes[9][i]*18:(best_prototypes[9][i]+1)*18])\n",
    "    # print(\"\")\n",
    "\n",
    "    # Draw 18 squares each with one character of prot using matplotlib\n",
    "    prot = prot_strings[prototype_class_index][int(best_prototypes[prototype_class_index][i])]\n",
    "    corresponding = string[best_prototypes[prototype_class_index][i]*18:(best_prototypes[prototype_class_index][i]+1)*18]\n",
    "\n",
    "    # This only works since prototypes are length 0 mod 3\n",
    "    prot_amino = create_amino(prot)\n",
    "    string_amino = create_amino(corresponding)\n",
    "    print(prot_amino)\n",
    "    print(string_amino)\n",
    "\n",
    "    for i, c in enumerate(prot):\n",
    "        plt.text(.05 * i+.05, 0.5, c, fontsize=18, ha='center', va='center')\n",
    "        plt.text(.05 * i+.05, 0.4, corresponding[i], fontsize=18, ha='center', va='center')\n",
    "        # Color the squares based on whether the character matches the prototype\n",
    "        if c == corresponding[i]:\n",
    "            plt.gca().add_patch(plt.Rectangle((.05 * i+.025, 0.35), .05, .2, fill=True, color='green'))\n",
    "        else:\n",
    "            plt.gca().add_patch(plt.Rectangle((.05 * i+.025, 0.35), .05, .2, fill=True, color='red'))\n",
    "\n",
    "    # Resize plot image\n",
    "    plt.gcf().set_size_inches(10, 2)\n",
    "    plt.ylim(.35, .55)\n",
    "    plt.xlim(.025, .925)\n",
    "\n",
    "    # Hide plot axis\n",
    "    plt.axis('off')\n",
    "    plt.show()"
   ]
  },
  {
   "cell_type": "code",
   "execution_count": 94,
   "metadata": {},
   "outputs": [],
   "source": [
    "is_best_prototype_location = torch.zeros(CLASS_COUNT, 40*18)\n",
    "\n",
    "for i in range(CLASS_COUNT):\n",
    "    best_prototypes_for_class = best_prototypes[i]\n",
    "\n",
    "    for ind, j in enumerate(best_prototypes_for_class):\n",
    "        # is_best_prototype_location[i][j*18:(j+1)*18] = (10 - ind) / 10\n",
    "        is_best_prototype_location[i][j*18:(j+1)*18] = 1"
   ]
  },
  {
   "cell_type": "code",
   "execution_count": 95,
   "metadata": {},
   "outputs": [
    {
     "data": {
      "image/png": "[encoded data removed]",
      "text/plain": [
       "<Figure size 640x480 with 1 Axes>"
      ]
     },
     "metadata": {},
     "output_type": "display_data"
    }
   ],
   "source": [
    "# Draw the heatmap\n",
    "import matplotlib.pyplot as plt\n",
    "\n",
    "classes = train_dataset.get_classes(TAXONOMY_NAME)[0]\n",
    "\n",
    "plt.imshow(is_best_prototype_location, cmap='hot', interpolation='nearest')\n",
    "plt.title(\"Best Prototype Locations\")\n",
    "plt.ylabel(TAXONOMY_NAME.capitalize())\n",
    "plt.xlabel(\"Position\")\n",
    "\n",
    "# Set the y axis labels to the class names, make them diagonal\n",
    "plt.yticks(range(CLASS_COUNT), classes)\n",
    "# Decrease the y axis label font size\n",
    "plt.yticks(fontsize=6)\n",
    "\n",
    "# Make its aspect ratio 2:1\n",
    "plt.gca().set_aspect('auto', adjustable='box',)\n",
    "# plt.gca().set_aspect(10)\n"
   ]
  }
 ],
 "metadata": {
  "kernelspec": {
   "display_name": "intnn",
   "language": "python",
   "name": "python3"
  },
  "language_info": {
   "codemirror_mode": {
    "name": "ipython",
    "version": 3
   },
   "file_extension": ".py",
   "mimetype": "text/x-python",
   "name": "python",
   "nbconvert_exporter": "python",
   "pygments_lexer": "ipython3",
   "version": "3.10.13"
  }
 },
 "nbformat": 4,
 "nbformat_minor": 2
}
