{
 "cells": [
  {
   "cell_type": "code",
   "execution_count": 58,
   "metadata": {},
   "outputs": [
    {
     "name": "stdout",
     "output_type": "stream",
     "text": [
      "The autoreload extension is already loaded. To reload it, use:\n",
      "  %reload_ext autoreload\n"
     ]
    }
   ],
   "source": [
    "%load_ext autoreload\n",
    "%autoreload 2"
   ]
  },
  {
   "cell_type": "code",
   "execution_count": 59,
   "metadata": {},
   "outputs": [],
   "source": [
    "from dataio.genetics import GeneticDataset, GeneticOneHot\n",
    "import pandas as pd\n",
    "import torch\n",
    "from model.utils import decode_onehot\n",
    "import matplotlib.pyplot as plt"
   ]
  },
  {
   "cell_type": "code",
   "execution_count": 60,
   "metadata": {},
   "outputs": [],
   "source": [
    "TRAIN_PATH = \"datasets/genetics/small_diptera_family-train.tsv\"\n",
    "VALIDATION_PATH = \"datasets/genetics/small_diptera_family-validation.tsv\"\n",
    "TAXONOMY_NAME = \"family\"\n",
    "PROTOTYPE_PATH = \"saved_models/genetics/prototype_saving_test_images/epoch-1/genetic-string.csv\"\n",
    "WEIGHT_PATH = \"saved_models/genetics/prototype_saving_test_images/10_push_weights.pth\"\n",
    "PROTOTYPE_COUNT = 10"
   ]
  },
  {
   "cell_type": "code",
   "execution_count": 61,
   "metadata": {},
   "outputs": [],
   "source": [
    "codon_map_a = {\n",
    "    \"Phe\": [\"TTT\", \"TTC\"],\n",
    "    \"Leu\": [\"TTA\", \"TTG\", \"CTT\", \"CTC\", \"CTA\", \"CTG\"],\n",
    "    \"Ile\": [\"ATT\", \"ATC\", \"ATA\"],\n",
    "    \"Met\": [\"ATG\"],\n",
    "    \"Val\": [\"GTT\", \"GTC\", \"GTA\", \"GTG\"],\n",
    "    \"Ser\": [\"TCT\", \"TCC\", \"TCA\", \"TCG\", \"AGT\", \"AGC\"],\n",
    "    \"Pro\": [\"CCT\", \"CCC\", \"CCA\", \"CCG\"],\n",
    "    \"Thr\": [\"ACT\", \"ACC\", \"ACA\", \"ACG\"],\n",
    "    \"Ala\": [\"GCT\", \"GCC\", \"GCA\", \"GCG\"],\n",
    "    \"Tyr\": [\"TAT\", \"TAC\"],\n",
    "    \"Stop\": [\"TAA\", \"TAG\", \"TGA\"],\n",
    "    \"His\": [\"CAT\", \"CAC\"],\n",
    "    \"Gln\": [\"CAA\", \"CAG\"],\n",
    "    \"Asn\": [\"AAT\", \"AAC\"],\n",
    "    \"Lys\": [\"AAA\", \"AAG\"],\n",
    "    \"Asp\": [\"GAT\", \"GAC\"],\n",
    "    \"Glu\": [\"GAA\", \"GAG\"],\n",
    "    \"Cys\": [\"TGT\", \"TGC\"],\n",
    "    \"Trp\": [\"TGG\"],\n",
    "    \"Arg\": [\"CGT\", \"CGC\", \"CGA\", \"CGG\", \"AGA\", \"AGG\"],\n",
    "    \"Gly\": [\"GGT\", \"GGC\", \"GGA\", \"GGG\"],\n",
    "    \"None\": [\"NNN\"],\n",
    "}\n",
    "\n",
    "codon_map = {}\n",
    "\n",
    "for aa, codons in codon_map_a.items():\n",
    "    for codon in codons:\n",
    "        codon_map[codon] = aa"
   ]
  },
  {
   "cell_type": "code",
   "execution_count": 62,
   "metadata": {},
   "outputs": [],
   "source": [
    "train_dataset = GeneticDataset(TRAIN_PATH,\n",
    "                              \"onehot\", \n",
    "                              TAXONOMY_NAME)\n",
    "\n",
    "validation_dataset = validation_dataset = GeneticDataset(VALIDATION_PATH, \n",
    "                              \"onehot\",\n",
    "                              TAXONOMY_NAME,\n",
    "                              train_dataset.get_classes(TAXONOMY_NAME)[0])\n"
   ]
  },
  {
   "cell_type": "code",
   "execution_count": 63,
   "metadata": {},
   "outputs": [],
   "source": [
    "prototype_df = pd.read_csv(PROTOTYPE_PATH)"
   ]
  },
  {
   "cell_type": "code",
   "execution_count": 64,
   "metadata": {},
   "outputs": [
    {
     "data": {
      "text/html": [
       "<div>\n",
       "<style scoped>\n",
       "    .dataframe tbody tr th:only-of-type {\n",
       "        vertical-align: middle;\n",
       "    }\n",
       "\n",
       "    .dataframe tbody tr th {\n",
       "        vertical-align: top;\n",
       "    }\n",
       "\n",
       "    .dataframe thead th {\n",
       "        text-align: right;\n",
       "    }\n",
       "</style>\n",
       "<table border=\"1\" class=\"dataframe\">\n",
       "  <thead>\n",
       "    <tr style=\"text-align: right;\">\n",
       "      <th></th>\n",
       "      <th>key</th>\n",
       "      <th>class_index</th>\n",
       "      <th>prototype_index</th>\n",
       "      <th>patch</th>\n",
       "    </tr>\n",
       "  </thead>\n",
       "  <tbody>\n",
       "    <tr>\n",
       "      <th>0</th>\n",
       "      <td>0</td>\n",
       "      <td>0</td>\n",
       "      <td>0</td>\n",
       "      <td>ACATTGTATTTTATATTA</td>\n",
       "    </tr>\n",
       "    <tr>\n",
       "      <th>1</th>\n",
       "      <td>1</td>\n",
       "      <td>0</td>\n",
       "      <td>1</td>\n",
       "      <td>AGCATGATCAGGTATAGT</td>\n",
       "    </tr>\n",
       "    <tr>\n",
       "      <th>2</th>\n",
       "      <td>2</td>\n",
       "      <td>0</td>\n",
       "      <td>2</td>\n",
       "      <td>AGGAACATCATTAAGAAT</td>\n",
       "    </tr>\n",
       "    <tr>\n",
       "      <th>3</th>\n",
       "      <td>3</td>\n",
       "      <td>0</td>\n",
       "      <td>3</td>\n",
       "      <td>ACATCCAGGAGCATTAAT</td>\n",
       "    </tr>\n",
       "    <tr>\n",
       "      <th>4</th>\n",
       "      <td>4</td>\n",
       "      <td>0</td>\n",
       "      <td>4</td>\n",
       "      <td>TTAGGACATCCAGGAGCA</td>\n",
       "    </tr>\n",
       "    <tr>\n",
       "      <th>...</th>\n",
       "      <td>...</td>\n",
       "      <td>...</td>\n",
       "      <td>...</td>\n",
       "      <td>...</td>\n",
       "    </tr>\n",
       "    <tr>\n",
       "      <th>1235</th>\n",
       "      <td>1595</td>\n",
       "      <td>39</td>\n",
       "      <td>35</td>\n",
       "      <td>TCAACATTTANNNNNNNN</td>\n",
       "    </tr>\n",
       "    <tr>\n",
       "      <th>1236</th>\n",
       "      <td>1596</td>\n",
       "      <td>39</td>\n",
       "      <td>36</td>\n",
       "      <td>NNNNNNNNNNNNNNNNNN</td>\n",
       "    </tr>\n",
       "    <tr>\n",
       "      <th>1237</th>\n",
       "      <td>1597</td>\n",
       "      <td>39</td>\n",
       "      <td>37</td>\n",
       "      <td>NNNNNNNNNNNNNNNNNN</td>\n",
       "    </tr>\n",
       "    <tr>\n",
       "      <th>1238</th>\n",
       "      <td>1598</td>\n",
       "      <td>39</td>\n",
       "      <td>38</td>\n",
       "      <td>NNNNNNNNNNNNNNNNNN</td>\n",
       "    </tr>\n",
       "    <tr>\n",
       "      <th>1239</th>\n",
       "      <td>1599</td>\n",
       "      <td>39</td>\n",
       "      <td>39</td>\n",
       "      <td>NNNNNNNNNNNNNNNNNN</td>\n",
       "    </tr>\n",
       "  </tbody>\n",
       "</table>\n",
       "<p>1240 rows × 4 columns</p>\n",
       "</div>"
      ],
      "text/plain": [
       "       key  class_index  prototype_index               patch\n",
       "0        0            0                0  ACATTGTATTTTATATTA\n",
       "1        1            0                1  AGCATGATCAGGTATAGT\n",
       "2        2            0                2  AGGAACATCATTAAGAAT\n",
       "3        3            0                3  ACATCCAGGAGCATTAAT\n",
       "4        4            0                4  TTAGGACATCCAGGAGCA\n",
       "...    ...          ...              ...                 ...\n",
       "1235  1595           39               35  TCAACATTTANNNNNNNN\n",
       "1236  1596           39               36  NNNNNNNNNNNNNNNNNN\n",
       "1237  1597           39               37  NNNNNNNNNNNNNNNNNN\n",
       "1238  1598           39               38  NNNNNNNNNNNNNNNNNN\n",
       "1239  1599           39               39  NNNNNNNNNNNNNNNNNN\n",
       "\n",
       "[1240 rows x 4 columns]"
      ]
     },
     "execution_count": 64,
     "metadata": {},
     "output_type": "execute_result"
    }
   ],
   "source": [
    "prototype_df"
   ]
  },
  {
   "cell_type": "code",
   "execution_count": 65,
   "metadata": {},
   "outputs": [],
   "source": [
    "prot_strings = [[\"\" for j in range(0,40)] for i in range(0, 40)]\n",
    "\n",
    "for i in range(0, len(prototype_df)):\n",
    "    class_index = prototype_df.iloc[i][\"class_index\"]\n",
    "    prototype_index = prototype_df.iloc[i][\"prototype_index\"]\n",
    "    string = prototype_df.iloc[i][\"patch\"]\n",
    "\n",
    "    prot_strings[class_index][prototype_index] = string\n",
    "\n",
    "full_strings = [\"\".join(string) for string in prot_strings]"
   ]
  },
  {
   "cell_type": "code",
   "execution_count": 66,
   "metadata": {},
   "outputs": [],
   "source": [
    "encoder = GeneticOneHot(include_height_channel=True)\n",
    "tensors = [encoder(s) if s != \"\" else None for s in full_strings]"
   ]
  },
  {
   "cell_type": "code",
   "execution_count": 67,
   "metadata": {},
   "outputs": [],
   "source": [
    "input_tensor = validation_dataset[100]"
   ]
  },
  {
   "cell_type": "code",
   "execution_count": 68,
   "metadata": {},
   "outputs": [
    {
     "name": "stdout",
     "output_type": "stream",
     "text": [
      "tensor([[[1., 0., 0.,  ..., 0., 0., 0.]],\n",
      "\n",
      "        [[0., 0., 0.,  ..., 0., 0., 0.]],\n",
      "\n",
      "        [[0., 0., 0.,  ..., 0., 0., 0.]],\n",
      "\n",
      "        [[0., 1., 1.,  ..., 0., 0., 0.]]]) tensor([[[0., 0., 0.,  ..., 0., 0., 0.]],\n",
      "\n",
      "        [[0., 0., 0.,  ..., 0., 0., 0.]],\n",
      "\n",
      "        [[0., 0., 0.,  ..., 0., 0., 0.]],\n",
      "\n",
      "        [[1., 1., 1.,  ..., 0., 0., 0.]]])\n"
     ]
    }
   ],
   "source": [
    "print(input_tensor[0], tensors[9])"
   ]
  },
  {
   "cell_type": "code",
   "execution_count": 69,
   "metadata": {},
   "outputs": [],
   "source": [
    "def find_matching_dims(input_tensor, prototype_tensors, class_index):\n",
    "    tensor = prototype_tensors[class_index]\n",
    "\n",
    "    if tensor is None:\n",
    "        print(\"No prototype tensor found for class index\", class_index)\n",
    "        return None\n",
    "    \n",
    "    if input_tensor.shape != tensor.shape:\n",
    "        print(\"Shape mismatch for class index\", class_index)\n",
    "        return None\n",
    "    \n",
    "    output = torch.eq(input_tensor, tensor)\n",
    "    # sum along the channel dimension\n",
    "    output = output.sum(0)\n",
    "    # integer divide by the number of channels\n",
    "    output = output // 4\n",
    "    return output[0]"
   ]
  },
  {
   "cell_type": "code",
   "execution_count": 70,
   "metadata": {},
   "outputs": [
    {
     "data": {
      "text/plain": [
       "tensor([0, 1, 1, 0, 0, 0, 0, 1, 1, 1, 1, 1, 1, 1, 1, 0, 0, 0, 0, 0, 0, 0, 0, 0,\n",
       "        0, 0, 1, 0, 0, 0, 0, 0, 1, 0, 0, 1, 1, 0, 1, 0, 0, 0, 0, 0, 1, 1, 0, 1,\n",
       "        0, 0, 0, 1, 0, 0, 0, 1, 0, 1, 1, 1, 1, 1, 1, 1, 1, 0, 1, 1, 1, 1, 1, 1,\n",
       "        0, 0, 1, 1, 0, 0, 0, 0, 0, 0, 0, 0, 1, 0, 0, 0, 1, 0, 1, 1, 1, 0, 0, 0,\n",
       "        0, 0, 0, 1, 0, 0, 0, 0, 0, 1, 1, 0, 0, 0, 0, 1, 0, 0, 1, 0, 1, 0, 0, 1,\n",
       "        1, 0, 0, 0, 0, 0, 0, 0, 0, 0, 0, 0, 0, 0, 1, 1, 0, 0, 0, 1, 0, 0, 0, 1,\n",
       "        0, 1, 0, 1, 0, 0, 0, 0, 0, 0, 1, 0, 0, 0, 0, 0, 1, 0, 0, 0, 0, 0, 0, 0,\n",
       "        1, 1, 0, 0, 0, 0, 0, 0, 0, 0, 0, 0, 0, 0, 1, 0, 0, 0, 0, 1, 0, 0, 0, 0,\n",
       "        0, 0, 0, 0, 0, 0, 0, 0, 1, 0, 1, 1, 0, 1, 1, 0, 0, 1, 1, 0, 0, 0, 1, 1,\n",
       "        1, 1, 1, 1, 1, 1, 1, 1, 1, 1, 1, 1, 1, 1, 1, 1, 1, 1, 1, 1, 0, 1, 1, 1,\n",
       "        1, 1, 1, 1, 1, 1, 1, 1, 1, 1, 1, 1, 1, 0, 1, 1, 0, 0, 0, 0, 0, 0, 0, 0,\n",
       "        1, 0, 0, 0, 0, 1, 0, 0, 0, 0, 1, 0, 1, 0, 1, 0, 0, 0, 1, 1, 0, 0, 1, 0,\n",
       "        1, 0, 1, 0, 0, 0, 1, 0, 0, 1, 1, 0, 0, 0, 0, 0, 0, 1, 0, 0, 1, 0, 0, 0,\n",
       "        0, 0, 0, 0, 0, 1, 0, 0, 0, 0, 1, 1, 0, 0, 1, 0, 0, 1, 1, 1, 0, 0, 0, 0,\n",
       "        1, 0, 1, 0, 0, 1, 1, 1, 1, 1, 1, 1, 1, 1, 1, 1, 1, 1, 1, 1, 1, 1, 1, 1,\n",
       "        0, 0, 0, 0, 1, 0, 0, 0, 0, 0, 0, 0, 1, 0, 0, 0, 1, 0, 1, 1, 1, 0, 1, 0,\n",
       "        1, 1, 0, 1, 1, 1, 1, 1, 1, 1, 1, 0, 1, 1, 0, 0, 0, 0, 1, 0, 0, 0, 0, 0,\n",
       "        0, 1, 0, 1, 0, 1, 0, 0, 0, 0, 0, 0, 0, 1, 0, 0, 1, 0, 0, 0, 0, 0, 0, 1,\n",
       "        1, 1, 0, 0, 0, 0, 1, 1, 0, 0, 1, 0, 0, 0, 0, 0, 0, 0, 0, 0, 0, 1, 1, 1,\n",
       "        1, 1, 0, 0, 0, 0, 0, 1, 1, 1, 0, 1, 1, 1, 1, 0, 1, 1, 0, 0, 0, 1, 1, 0,\n",
       "        1, 0, 0, 0, 0, 1, 0, 0, 1, 1, 0, 1, 0, 0, 1, 0, 1, 0, 1, 1, 1, 1, 0, 1,\n",
       "        1, 1, 0, 1, 1, 1, 1, 1, 1, 1, 1, 1, 1, 1, 1, 1, 1, 1, 0, 0, 0, 0, 0, 0,\n",
       "        1, 0, 0, 1, 0, 0, 1, 0, 0, 1, 0, 0, 1, 1, 1, 1, 1, 1, 1, 1, 1, 1, 1, 1,\n",
       "        1, 1, 1, 1, 1, 1, 0, 0, 1, 0, 0, 0, 0, 1, 0, 1, 1, 0, 0, 0, 0, 0, 0, 1,\n",
       "        0, 0, 0, 0, 0, 0, 0, 0, 0, 0, 0, 0, 1, 1, 0, 0, 1, 1, 1, 0, 1, 1, 0, 0,\n",
       "        1, 1, 0, 1, 0, 0, 1, 1, 1, 0, 0, 1, 0, 0, 0, 1, 0, 0, 0, 0, 0, 0, 0, 0,\n",
       "        0, 0, 0, 0, 0, 0, 0, 0, 1, 0, 0, 1, 0, 1, 0, 0, 0, 0, 0, 0, 0, 0, 0, 0,\n",
       "        1, 1, 1, 1, 1, 1, 1, 1, 1, 1, 1, 1, 1, 1, 1, 1, 1, 1, 1, 1, 1, 1, 1, 1,\n",
       "        1, 1, 1, 1, 1, 1, 1, 1, 1, 1, 1, 1, 1, 1, 1, 1, 1, 1, 1, 1, 1, 1, 1, 1,\n",
       "        1, 1, 1, 1, 1, 1, 1, 1, 1, 1, 1, 1, 1, 1, 1, 1, 1, 1, 1, 1, 1, 1, 1, 1])"
      ]
     },
     "execution_count": 70,
     "metadata": {},
     "output_type": "execute_result"
    }
   ],
   "source": [
    "find_matching_dims(input_tensor[0], tensors, 9)"
   ]
  },
  {
   "cell_type": "code",
   "execution_count": 71,
   "metadata": {},
   "outputs": [],
   "source": [
    "# Open the weights\n",
    "weights = torch.load(WEIGHT_PATH)[\"weight\"]\n",
    "\n",
    "class_weights = torch.zeros(40, 40)\n",
    "\n",
    "# Reshape the weights\n",
    "weights = weights.reshape(40, 40, 40)\n",
    "\n",
    "for i in range(40):\n",
    "    for j in range(40):\n",
    "        class_weights[i][j] = weights[i][i][j]"
   ]
  },
  {
   "cell_type": "code",
   "execution_count": 72,
   "metadata": {},
   "outputs": [],
   "source": [
    "sorted_prototype_indices = class_weights.argsort(descending=True, dim=1)\n",
    "best_prototypes = sorted_prototype_indices[:, 0:PROTOTYPE_COUNT]"
   ]
  },
  {
   "cell_type": "code",
   "execution_count": 73,
   "metadata": {},
   "outputs": [
    {
     "name": "stdout",
     "output_type": "stream",
     "text": [
      "tensor(9)\n",
      "0 53\n",
      "No prototype tensor found for class index 1\n",
      "2 73\n",
      "No prototype tensor found for class index 3\n",
      "4 88\n",
      "No prototype tensor found for class index 5\n",
      "6 75\n",
      "7 69\n",
      "8 73\n",
      "9 89\n",
      "10 53\n",
      "11 66\n",
      "No prototype tensor found for class index 12\n",
      "13 71\n",
      "14 80\n",
      "15 92\n",
      "16 60\n",
      "17 92\n",
      "18 67\n",
      "19 66\n",
      "20 71\n",
      "21 66\n",
      "22 47\n",
      "23 71\n",
      "No prototype tensor found for class index 24\n",
      "25 86\n",
      "26 54\n",
      "27 81\n",
      "No prototype tensor found for class index 28\n",
      "29 71\n",
      "30 75\n",
      "31 80\n",
      "32 68\n",
      "No prototype tensor found for class index 33\n",
      "34 65\n",
      "No prototype tensor found for class index 35\n",
      "No prototype tensor found for class index 36\n",
      "37 92\n",
      "38 84\n",
      "39 68\n"
     ]
    }
   ],
   "source": [
    "print(input_tensor[1])\n",
    "for i in range(40):\n",
    "    o = find_matching_dims(input_tensor[0], tensors, i)\n",
    "\n",
    "    if o is not None:\n",
    "        t = 0\n",
    "\n",
    "        for p in best_prototypes[i]:\n",
    "            t += int(o[p*18:(p+1)*18].sum())\n",
    "        \n",
    "        print(i, t)"
   ]
  },
  {
   "cell_type": "code",
   "execution_count": 96,
   "metadata": {},
   "outputs": [],
   "source": [
    "def create_amino(string):\n",
    "    output = []\n",
    "    print(string)\n",
    "\n",
    "    for i in range(0, len(string), 3):\n",
    "        s = string[i:i+3]\n",
    "        if s in codon_map:\n",
    "            output.append(codon_map[s])\n",
    "        else:\n",
    "            output.append(\"None\")\n",
    "    \n",
    "    return output"
   ]
  },
  {
   "cell_type": "code",
   "execution_count": 99,
   "metadata": {},
   "outputs": [
    {
     "name": "stdout",
     "output_type": "stream",
     "text": [
      "AGGATTCGGAAATTGACT\n",
      "TTTGGAAATTGATTAGTC\n",
      "['Arg', 'Ile', 'Arg', 'Lys', 'Leu', 'Thr']\n",
      "['Phe', 'Gly', 'Asn', 'Stop', 'Leu', 'Val']\n"
     ]
    },
    {
     "data": {
      "image/png": "[encoded data removed]",
      "text/plain": [
       "<Figure size 1000x200 with 1 Axes>"
      ]
     },
     "metadata": {},
     "output_type": "display_data"
    },
    {
     "name": "stdout",
     "output_type": "stream",
     "text": [
      "ATGCCTATTATAATAGGA\n",
      "CCAATTATAATTGGTGGA\n",
      "['Met', 'Pro', 'Ile', 'Ile', 'Ile', 'Gly']\n",
      "['Pro', 'Ile', 'Ile', 'Ile', 'Gly', 'Gly']\n"
     ]
    },
    {
     "data": {
      "image/png": "[encoded data removed]",
      "text/plain": [
       "<Figure size 1000x200 with 1 Axes>"
      ]
     },
     "metadata": {},
     "output_type": "display_data"
    },
    {
     "name": "stdout",
     "output_type": "stream",
     "text": [
      "TCATATAGGAACTTCAGT\n",
      "CATTCTAGTGCATCTGTA\n",
      "['Ser', 'Tyr', 'Arg', 'Asn', 'Phe', 'Ser']\n",
      "['His', 'Ser', 'Ser', 'Ala', 'Ser', 'Val']\n"
     ]
    },
    {
     "data": {
      "image/png": "[encoded data removed]",
      "text/plain": [
       "<Figure size 1000x200 with 1 Axes>"
      ]
     },
     "metadata": {},
     "output_type": "display_data"
    },
    {
     "name": "stdout",
     "output_type": "stream",
     "text": [
      "ATGATCAGTGGGTATTAC\n",
      "TGGTCAGTAATTATTACT\n",
      "['Met', 'Ile', 'Ser', 'Gly', 'Tyr', 'Tyr']\n",
      "['Trp', 'Ser', 'Val', 'Ile', 'Ile', 'Thr']\n"
     ]
    },
    {
     "data": {
      "image/png": "[encoded data removed]",
      "text/plain": [
       "<Figure size 1000x200 with 1 Axes>"
      ]
     },
     "metadata": {},
     "output_type": "display_data"
    },
    {
     "name": "stdout",
     "output_type": "stream",
     "text": [
      "GTAAATTTCATTACTACT\n",
      "ATTAATTTTATTACTACT\n",
      "['Val', 'Asn', 'Phe', 'Ile', 'Thr', 'Thr']\n",
      "['Ile', 'Asn', 'Phe', 'Ile', 'Thr', 'Thr']\n"
     ]
    },
    {
     "data": {
      "image/png": "[encoded data removed]",
      "text/plain": [
       "<Figure size 1000x200 with 1 Axes>"
      ]
     },
     "metadata": {},
     "output_type": "display_data"
    },
    {
     "name": "stdout",
     "output_type": "stream",
     "text": [
      "CAATTATTAATATACGCT\n",
      "ATAATTAATATACAAATT\n",
      "['Gln', 'Leu', 'Leu', 'Ile', 'Tyr', 'Ala']\n",
      "['Ile', 'Ile', 'Asn', 'Ile', 'Gln', 'Ile']\n"
     ]
    },
    {
     "data": {
      "image/png": "[encoded data removed]",
      "text/plain": [
       "<Figure size 1000x200 with 1 Axes>"
      ]
     },
     "metadata": {},
     "output_type": "display_data"
    },
    {
     "name": "stdout",
     "output_type": "stream",
     "text": [
      "GGAACATCATTAAGAATA\n",
      "GGAACATCTTTAAGATTA\n",
      "['Gly', 'Thr', 'Ser', 'Leu', 'Arg', 'Ile']\n",
      "['Gly', 'Thr', 'Ser', 'Leu', 'Arg', 'Leu']\n"
     ]
    },
    {
     "data": {
      "image/png": "[encoded data removed]",
      "text/plain": [
       "<Figure size 1000x200 with 1 Axes>"
      ]
     },
     "metadata": {},
     "output_type": "display_data"
    },
    {
     "name": "stdout",
     "output_type": "stream",
     "text": [
      "GTTTGATAAAATACCTCT\n",
      "AATAAAATTAAATTTGAT\n",
      "['Val', 'Stop', 'Stop', 'Asn', 'Thr', 'Ser']\n",
      "['Asn', 'Lys', 'Ile', 'Lys', 'Phe', 'Asp']\n"
     ]
    },
    {
     "data": {
      "image/png": "[encoded data removed]",
      "text/plain": [
       "<Figure size 1000x200 with 1 Axes>"
      ]
     },
     "metadata": {},
     "output_type": "display_data"
    },
    {
     "name": "stdout",
     "output_type": "stream",
     "text": [
      "TTTAGCTTCTAATTTAGC\n",
      "TTATCTTCTTCTATTGCA\n",
      "['Phe', 'Ser', 'Phe', 'Stop', 'Phe', 'Ser']\n",
      "['Leu', 'Ser', 'Ser', 'Ser', 'Ile', 'Ala']\n"
     ]
    },
    {
     "data": {
      "image/png": "[encoded data removed]",
      "text/plain": [
       "<Figure size 1000x200 with 1 Axes>"
      ]
     },
     "metadata": {},
     "output_type": "display_data"
    },
    {
     "name": "stdout",
     "output_type": "stream",
     "text": [
      "ATAATCATTCGCCTAGAA\n",
      "TTAATTCGATTTGAATTA\n",
      "['Ile', 'Ile', 'Ile', 'Arg', 'Leu', 'Glu']\n",
      "['Leu', 'Ile', 'Arg', 'Phe', 'Glu', 'Leu']\n"
     ]
    },
    {
     "data": {
      "image/png": "[encoded data removed]",
      "text/plain": [
       "<Figure size 1000x200 with 1 Axes>"
      ]
     },
     "metadata": {},
     "output_type": "display_data"
    }
   ],
   "source": [
    "# 2\n",
    "# 3\n",
    "for i in range(PROTOTYPE_COUNT):\n",
    "    string = decode_onehot(input_tensor[0].numpy(), three_dim=True)\n",
    "\n",
    "    # print(string[best_prototypes[9][i]*18:(best_prototypes[9][i]+1)*18])\n",
    "    # print(\"\")\n",
    "\n",
    "    # Draw 18 squares each with one character of prot using matplotlib\n",
    "    prot = prot_strings[8][int(best_prototypes[8][i])]\n",
    "    corresponding = string[best_prototypes[8][i]*18:(best_prototypes[8][i]+1)*18]\n",
    "\n",
    "    # This only works since prototypes are length 0 mod 3\n",
    "    prot_amino = create_amino(prot)\n",
    "    string_amino = create_amino(corresponding)\n",
    "    print(prot_amino)\n",
    "    print(string_amino)\n",
    "\n",
    "    for i, c in enumerate(prot):\n",
    "        plt.text(.05 * i+.05, 0.5, c, fontsize=18, ha='center', va='center')\n",
    "        plt.text(.05 * i+.05, 0.4, corresponding[i], fontsize=18, ha='center', va='center')\n",
    "        # Color the squares based on whether the character matches the prototype\n",
    "        if c == corresponding[i]:\n",
    "            plt.gca().add_patch(plt.Rectangle((.05 * i+.025, 0.35), .05, .2, fill=True, color='green'))\n",
    "        else:\n",
    "            plt.gca().add_patch(plt.Rectangle((.05 * i+.025, 0.35), .05, .2, fill=True, color='red'))\n",
    "\n",
    "    # Resize plot image\n",
    "    plt.gcf().set_size_inches(10, 2)\n",
    "    plt.ylim(.35, .55)\n",
    "    plt.xlim(.025, .925)\n",
    "\n",
    "    # Hide plot axis\n",
    "    plt.axis('off')\n",
    "    plt.show()"
   ]
  },
  {
   "cell_type": "code",
   "execution_count": 76,
   "metadata": {},
   "outputs": [],
   "source": [
    "is_best_prototype_location = torch.zeros(40, 40*18)\n",
    "\n",
    "for i in range(40):\n",
    "    best_prototypes_for_class = best_prototypes[i]\n",
    "\n",
    "    for ind, j in enumerate(best_prototypes_for_class):\n",
    "        # is_best_prototype_location[i][j*18:(j+1)*18] = (10 - ind) / 10\n",
    "        is_best_prototype_location[i][j*18:(j+1)*18] = 1"
   ]
  },
  {
   "cell_type": "code",
   "execution_count": 77,
   "metadata": {},
   "outputs": [
    {
     "name": "stdout",
     "output_type": "stream",
     "text": [
      "Phoridae\n",
      "Cecidomyiidae\n"
     ]
    },
    {
     "data": {
      "image/png": "[encoded data removed]",
      "text/plain": [
       "<Figure size 640x480 with 1 Axes>"
      ]
     },
     "metadata": {},
     "output_type": "display_data"
    }
   ],
   "source": [
    "# Draw the heatmap\n",
    "import matplotlib.pyplot as plt\n",
    "\n",
    "classes = train_dataset.get_classes(TAXONOMY_NAME)[0]\n",
    "\n",
    "plt.imshow(is_best_prototype_location, cmap='hot', interpolation='nearest')\n",
    "plt.title(\"Best Prototype Locations\")\n",
    "plt.ylabel(\"Family\")\n",
    "plt.xlabel(\"Position\")\n",
    "\n",
    "# Set the y axis labels to the class names, make them diagonal\n",
    "plt.yticks(range(40), classes)\n",
    "# Decrease the y axis label font size\n",
    "plt.yticks(fontsize=6)\n",
    "\n",
    "# Make its aspect ratio 1:1\n",
    "plt.gca().set_aspect('auto', adjustable='box')\n",
    "\n",
    "print(classes[8])\n",
    "print(classes[input_tensor[1]])"
   ]
  }
 ],
 "metadata": {
  "kernelspec": {
   "display_name": "intnn",
   "language": "python",
   "name": "python3"
  },
  "language_info": {
   "codemirror_mode": {
    "name": "ipython",
    "version": 3
   },
   "file_extension": ".py",
   "mimetype": "text/x-python",
   "name": "python",
   "nbconvert_exporter": "python",
   "pygments_lexer": "ipython3",
   "version": "3.10.13"
  }
 },
 "nbformat": 4,
 "nbformat_minor": 2
}
